{
 "cells": [
  {
   "cell_type": "markdown",
   "metadata": {},
   "source": [
    "# Basic Introduction to Python\n",
    "\n",
    "This is a very basic introduction to Python. It is not exhaustive, but is meant to give you a starting point.\n",
    "\n",
    "This notebook was written for PHY 403 by Segev BenZvi, University of Rochester, (Spring 2018).\n",
    "\n",
    "It is based on a similar (longer) Python guide written by Kyle Jero (UW-Madison) for the IceCube Programming Bootcamp in June 2015, and includes elements from older guides by Jakob van Santen and Nathan Whitehorn.\n",
    "\n",
    "\n",
    "## What is Python?\n",
    "\n",
    "Python is an **imperative**, **interpreted** programming language with **strong** **dynamic** typing.\n",
    "\n",
    "- **Imperative**: programs are built around one or more subroutines known as \"functions\" and \"classes\"\n",
    "- **Interpreted**: program instructions are executed on the fly rather than being pre-compiled into machine code\n",
    "- **Dynamic Typing**: data types of *variables* (`int`, `float`, `string`, etc.) are determined on the fly as the program runs\n",
    "- **Strong Typing**: converting a variable from one type to another (e.g., `int` to `string`) is not always done automatically\n",
    "\n",
    "Python offers fast and flexible development and can be used to glue together many different analysis packages which have \"Python bindings.\"\n",
    "\n",
    "As a rule, Python programs are slower than compiled programs written in Fortran, C, and C++. But it's a much more forgiving programming language.\n",
    "\n",
    "## Why Use Python?\n",
    "\n",
    "Python is one of the most popular scripting languages in the world, with a huge community of users and support on all major platforms (Windows, OS X, Linux).\n",
    "\n",
    "![Languages](languages.jpg)\n",
    "\n",
    "![Github](github.png)\n",
    "\n",
    "Pretty much every time I've run into a problem programming in Python, I've found a solution after a couple of minutes of searching on google or stackoverflow.com!\n",
    "\n",
    "## Key Third-Party Packages\n",
    "\n",
    "### Must-Haves\n",
    "\n",
    "- <a href=\"http://www.numpy.org/\">NumPy</a>: random number generation, transcendental functions, vectorized math, linear algebra.\n",
    "- <a href=\"http://www.scipy.org/\">SciPy</a>: statistical tests, special functions, numerical integration, curve fitting and minimization.\n",
    "- <a href=\"http://matplotlib.org/\">Matplotlib</a>: plotting: xy plots, error bars, contour plots, histograms, etc.\n",
    "- <a href=\"http://ipython.org/\">IPython</a>: an interactive python shell, which can be used to run Mathematica-style analysis notebooks.\n",
    "\n",
    "### Worth Using\n",
    "\n",
    "- <a href=\"https://scikits.appspot.com/\">SciKits</a>: data analysis add-ons to SciPy, including machine learning algorithms.\n",
    "- <a href=\"http://pandas.pydata.org/\">Pandas</a>: functions and classes for specialized data analysis.\n",
    "- <a href=\"http://www.astropy.org/\">AstroPy</a>: statistical methods useful for time series analysis and data reduction in astronomy.\n",
    "- <a href=\"http://dan.iel.fm/emcee/current/\">Emcee</a>: great implementation of Markov Chain Monte Carlo; nice to combine with the package <a href=\"https://pypi.python.org/pypi/corner\">Corner</a>.\n",
    "\n",
    "### Specialized Bindings\n",
    "\n",
    "Many C and C++ packages used in high energy physics come with bindings to Python.  For example, the <a href=\"https://root.cern.ch/\">ROOT</a> package distributed by CERN can be run completely from Python.\n",
    "\n",
    "### Online Tools\n",
    "\n",
    "If you don't want to install all these packages on your own computer, you can create a free account with the <a href=\"https://notebooks.azure.com\">Microsoft Azure</a> cloud service.\n",
    "\n",
    "![Azure](azure.png)\n",
    "\n",
    "Azure gives you access to jupyter notebooks running on remote servers. Recent versions of SciPy, NumPy, and Matplotlib are provided.\n",
    "\n",
    "## Programming Basics\n",
    "\n",
    "We will go through the following topics, and then do some simple exercises.\n",
    "\n",
    "- Arithmetic Operators\n",
    "- Variables and Lists\n",
    "- Conditional Statements\n",
    "- Loops (`for` and `while`)\n",
    "- Functions\n",
    "- Importing Modules"
   ]
  },
  {
   "cell_type": "markdown",
   "metadata": {
    "collapsed": true
   },
   "source": [
    "### Arithmetic Operators"
   ]
  },
  {
   "cell_type": "markdown",
   "metadata": {},
   "source": [
    "#### Addition"
   ]
  },
  {
   "cell_type": "code",
   "execution_count": 1,
   "metadata": {},
   "outputs": [
    {
     "data": {
      "text/plain": [
       "3"
      ]
     },
     "execution_count": 1,
     "metadata": {},
     "output_type": "execute_result"
    }
   ],
   "source": [
    "1+2"
   ]
  },
  {
   "cell_type": "markdown",
   "metadata": {},
   "source": [
    "#### Subtraction"
   ]
  },
  {
   "cell_type": "code",
   "execution_count": 2,
   "metadata": {},
   "outputs": [
    {
     "data": {
      "text/plain": [
       "12250"
      ]
     },
     "execution_count": 2,
     "metadata": {},
     "output_type": "execute_result"
    }
   ],
   "source": [
    "19993 - 7743"
   ]
  },
  {
   "cell_type": "markdown",
   "metadata": {},
   "source": [
    "#### Multiplication"
   ]
  },
  {
   "cell_type": "code",
   "execution_count": 3,
   "metadata": {},
   "outputs": [
    {
     "data": {
      "text/plain": [
       "24"
      ]
     },
     "execution_count": 3,
     "metadata": {},
     "output_type": "execute_result"
    }
   ],
   "source": [
    "3*8"
   ]
  },
  {
   "cell_type": "markdown",
   "metadata": {},
   "source": [
    "#### Division"
   ]
  },
  {
   "cell_type": "code",
   "execution_count": 4,
   "metadata": {},
   "outputs": [
    {
     "data": {
      "text/plain": [
       "25.0"
      ]
     },
     "execution_count": 4,
     "metadata": {},
     "output_type": "execute_result"
    }
   ],
   "source": [
    "50 / 2"
   ]
  },
  {
   "cell_type": "code",
   "execution_count": 5,
   "metadata": {},
   "outputs": [
    {
     "data": {
      "text/plain": [
       "0.3333333333333333"
      ]
     },
     "execution_count": 5,
     "metadata": {},
     "output_type": "execute_result"
    }
   ],
   "source": [
    "1 / 3"
   ]
  },
  {
   "cell_type": "markdown",
   "metadata": {},
   "source": [
    "Note: in Python 2, division of two integers is always **floor division**.  In Python 3, 1/2 automatically evaluates to the *floating point number* 0.5.  To use floor division in Python 3, you'll have to run `1 // 2`."
   ]
  },
  {
   "cell_type": "code",
   "execution_count": 6,
   "metadata": {},
   "outputs": [
    {
     "data": {
      "text/plain": [
       "0"
      ]
     },
     "execution_count": 6,
     "metadata": {},
     "output_type": "execute_result"
    }
   ],
   "source": [
    "1 // 2  # floor division: will give you zero (int), not 0.5 (float)"
   ]
  },
  {
   "cell_type": "markdown",
   "metadata": {},
   "source": [
    "#### Modulo/Remainder"
   ]
  },
  {
   "cell_type": "code",
   "execution_count": 7,
   "metadata": {},
   "outputs": [
    {
     "data": {
      "text/plain": [
       "2"
      ]
     },
     "execution_count": 7,
     "metadata": {},
     "output_type": "execute_result"
    }
   ],
   "source": [
    "30 % 4"
   ]
  },
  {
   "cell_type": "code",
   "execution_count": 8,
   "metadata": {},
   "outputs": [
    {
     "data": {
      "text/plain": [
       "0.14159265359000006"
      ]
     },
     "execution_count": 8,
     "metadata": {},
     "output_type": "execute_result"
    }
   ],
   "source": [
    "3.14159265359 % 1."
   ]
  },
  {
   "cell_type": "markdown",
   "metadata": {},
   "source": [
    "#### Exponentiation"
   ]
  },
  {
   "cell_type": "code",
   "execution_count": 9,
   "metadata": {},
   "outputs": [
    {
     "data": {
      "text/plain": [
       "16"
      ]
     },
     "execution_count": 9,
     "metadata": {},
     "output_type": "execute_result"
    }
   ],
   "source": [
    "4**2"
   ]
  },
  {
   "cell_type": "markdown",
   "metadata": {},
   "source": [
    "### Variables\n",
    "\n",
    "Variables are extremely useful for storing values and using them later. One can declare a variable to contain the output of any variable, function call, etc. However, variable names must follow certain rules:\n",
    "\n",
    "1. Variable names must start with a letter (upper or lower case) or underscore\n",
    "2. Variable names may contain only letters, numbers, and underscores _\n",
    "3. The following names are **reserved keywords** in Python and cannot be used as variable names:\n",
    "\n",
    "  `  and       del      from    not   while`\n",
    "\n",
    "  `  as        elif     global  or    with`\n",
    "  \n",
    "  `  assert    else     if      pass  yield`\n",
    "  \n",
    "  `  break     except   import  print`\n",
    "  \n",
    "  `  class     exec     in      raise`\n",
    "  \n",
    "  `  continue  finally  is      return`\n",
    "  \n",
    "  `  def       for      lambda  try`"
   ]
  },
  {
   "cell_type": "code",
   "execution_count": 10,
   "metadata": {},
   "outputs": [],
   "source": [
    "x = 5 + 6"
   ]
  },
  {
   "cell_type": "markdown",
   "metadata": {},
   "source": [
    "This time nothing printed out because the output of the expression was stored in the variable `x`. To see the value we have to just evaluate `x` in a cell..."
   ]
  },
  {
   "cell_type": "code",
   "execution_count": 11,
   "metadata": {},
   "outputs": [
    {
     "data": {
      "text/plain": [
       "11"
      ]
     },
     "execution_count": 11,
     "metadata": {},
     "output_type": "execute_result"
    }
   ],
   "source": [
    "x"
   ]
  },
  {
   "cell_type": "markdown",
   "metadata": {},
   "source": [
    "...or we explicitly call the `print` function:"
   ]
  },
  {
   "cell_type": "code",
   "execution_count": 12,
   "metadata": {},
   "outputs": [
    {
     "name": "stdout",
     "output_type": "stream",
     "text": [
      "11\n"
     ]
    }
   ],
   "source": [
    "print(x)"
   ]
  },
  {
   "cell_type": "markdown",
   "metadata": {},
   "source": [
    "Recall that we don't have to explicitly declare what type something is in python, something that is not true in many other languages, we simply have to name our variable and specify what we want it to store. However, it is still nice to know the types of things sometimes and learn what types python has available for our use."
   ]
  },
  {
   "cell_type": "markdown",
   "metadata": {},
   "source": [
    "#### Data Types"
   ]
  },
  {
   "cell_type": "code",
   "execution_count": 13,
   "metadata": {},
   "outputs": [
    {
     "data": {
      "text/plain": [
       "int"
      ]
     },
     "execution_count": 13,
     "metadata": {},
     "output_type": "execute_result"
    }
   ],
   "source": [
    "type(x)"
   ]
  },
  {
   "cell_type": "code",
   "execution_count": 14,
   "metadata": {},
   "outputs": [
    {
     "data": {
      "text/plain": [
       "float"
      ]
     },
     "execution_count": 14,
     "metadata": {},
     "output_type": "execute_result"
    }
   ],
   "source": [
    "y = 2\n",
    "type(x/y)"
   ]
  },
  {
   "cell_type": "code",
   "execution_count": 15,
   "metadata": {},
   "outputs": [
    {
     "data": {
      "text/plain": [
       "float"
      ]
     },
     "execution_count": 15,
     "metadata": {},
     "output_type": "execute_result"
    }
   ],
   "source": [
    "z = 1.\n",
    "type(z/y)"
   ]
  },
  {
   "cell_type": "code",
   "execution_count": 16,
   "metadata": {},
   "outputs": [
    {
     "data": {
      "text/plain": [
       "bool"
      ]
     },
     "execution_count": 16,
     "metadata": {},
     "output_type": "execute_result"
    }
   ],
   "source": [
    "w = True\n",
    "type(w)"
   ]
  },
  {
   "cell_type": "code",
   "execution_count": 17,
   "metadata": {},
   "outputs": [
    {
     "data": {
      "text/plain": [
       "str"
      ]
     },
     "execution_count": 17,
     "metadata": {},
     "output_type": "execute_result"
    }
   ],
   "source": [
    "h = 'Hello'\n",
    "type(h)"
   ]
  },
  {
   "cell_type": "markdown",
   "metadata": {},
   "source": [
    "##### Strings"
   ]
  },
  {
   "cell_type": "markdown",
   "metadata": {},
   "source": [
    "Strings are collections of characters between pairs of single or double quotes. (Note: in other languages like C/C++, Java, etc., you must use double quotes for strings.) The ability to mix/match single and double quote pairs makes it easy to put a literal quotation mark inside a string. That is, the quotation mark won't be treated as a delimiting character that indicates the start or end of a string.\n",
    "\n",
    "String manipulation is an important part of managing certain kinds of data, such as records in text files. Python lets you do nice things like combine strings using simple arithmetic operators."
   ]
  },
  {
   "cell_type": "code",
   "execution_count": 18,
   "metadata": {},
   "outputs": [
    {
     "name": "stdout",
     "output_type": "stream",
     "text": [
      "Hello World!\n"
     ]
    }
   ],
   "source": [
    "s = \" \"                 # Create a string with double quotes.\n",
    "w = 'World!'            # Create a string with single quotes.\n",
    "\n",
    "print(h + s + w)        # Concatenate strings with + and print the result."
   ]
  },
  {
   "cell_type": "code",
   "execution_count": 19,
   "metadata": {},
   "outputs": [
    {
     "name": "stdout",
     "output_type": "stream",
     "text": [
      "They're \"hypothetically\" good for you to know.\n"
     ]
    }
   ],
   "source": [
    "mystring1 = 'mystring1'\n",
    "mystring2 = \"mystring2\"\n",
    "\n",
    "apostrophes=\"They're \"\n",
    "quotes='\"hypothetically\" '                                # Add literal \" marks inside the string.\n",
    "saying=apostrophes + quotes + \"good for you to know.\"\n",
    "\n",
    "print(saying)"
   ]
  },
  {
   "cell_type": "markdown",
   "metadata": {},
   "source": [
    "C-style formatted printing is also allowed:"
   ]
  },
  {
   "cell_type": "code",
   "execution_count": 20,
   "metadata": {},
   "outputs": [
    {
     "name": "stdout",
     "output_type": "stream",
     "text": [
      "Pi = 3.142\n",
      "Pi = 3.141593\n"
     ]
    }
   ],
   "source": [
    "p = 'Pi'\n",
    "print('%s = %.3f' % (p, 3.14159265359))               # old-style string formatting\n",
    "print('{:s} = {:.6f}'.format(p, 3.14159265359))       # new-style string formatting"
   ]
  },
  {
   "cell_type": "markdown",
   "metadata": {},
   "source": [
    "### Lists\n",
    "\n",
    "Imagine that we are storing the heights of people or the results of a random process. We could imagine taking and making a new variable for each piece of information but this becomes convoluted very quickly. In instances like this it is best to store the collection of information together in one place. In python this collection is called a list and can be defined by enclosing data separated by commas in square brackets. A empty list can also be specified by square brackets with nothing between them and filled later in the program."
   ]
  },
  {
   "cell_type": "code",
   "execution_count": 21,
   "metadata": {},
   "outputs": [
    {
     "data": {
      "text/plain": [
       "[]"
      ]
     },
     "execution_count": 21,
     "metadata": {},
     "output_type": "execute_result"
    }
   ],
   "source": [
    "blanklist = []\n",
    "blanklist"
   ]
  },
  {
   "cell_type": "code",
   "execution_count": 22,
   "metadata": {},
   "outputs": [
    {
     "name": "stdout",
     "output_type": "stream",
     "text": [
      "[1, 2.5, '3']\n",
      "<class 'list'>\n"
     ]
    }
   ],
   "source": [
    "alist=[1, 2.5, '3']\n",
    "print(alist)\n",
    "print(type(alist))"
   ]
  },
  {
   "cell_type": "markdown",
   "metadata": {},
   "source": [
    "Notice that the type of our list is `list` and no mention of the data type it contains is made. This is because python does not fuss about what type of thing is in a list or even mixing of types in lists. If you have worked with nearly any other language this is different then you are used to since the type of your list must be homogeneous."
   ]
  },
  {
   "cell_type": "code",
   "execution_count": 23,
   "metadata": {},
   "outputs": [
    {
     "data": {
      "text/plain": [
       "[1, 'two', 3.0]"
      ]
     },
     "execution_count": 23,
     "metadata": {},
     "output_type": "execute_result"
    }
   ],
   "source": [
    "blist=[1, 'two', 3.0]\n",
    "blist"
   ]
  },
  {
   "cell_type": "code",
   "execution_count": 24,
   "metadata": {},
   "outputs": [
    {
     "name": "stdout",
     "output_type": "stream",
     "text": [
      "<class 'list'>\n"
     ]
    }
   ],
   "source": [
    "print(type(blist))"
   ]
  },
  {
   "cell_type": "markdown",
   "metadata": {},
   "source": [
    "You can check the current length of a list by calling the `len` function with the list as the argument:"
   ]
  },
  {
   "cell_type": "code",
   "execution_count": 25,
   "metadata": {},
   "outputs": [
    {
     "data": {
      "text/plain": [
       "3"
      ]
     },
     "execution_count": 25,
     "metadata": {},
     "output_type": "execute_result"
    }
   ],
   "source": [
    "len(blist)"
   ]
  },
  {
   "cell_type": "markdown",
   "metadata": {},
   "source": [
    "In addition, you can add objects to the list or remove them from the list in several ways:"
   ]
  },
  {
   "cell_type": "code",
   "execution_count": 26,
   "metadata": {},
   "outputs": [
    {
     "data": {
      "text/plain": [
       "[1, 'two', 3.0, '4']"
      ]
     },
     "execution_count": 26,
     "metadata": {},
     "output_type": "execute_result"
    }
   ],
   "source": [
    "blist.append(\"4\")      # Add the string '4' to the end.\n",
    "blist"
   ]
  },
  {
   "cell_type": "code",
   "execution_count": 27,
   "metadata": {},
   "outputs": [
    {
     "data": {
      "text/plain": [
       "['0', 1, 'two', 3.0, '4']"
      ]
     },
     "execution_count": 27,
     "metadata": {},
     "output_type": "execute_result"
    }
   ],
   "source": [
    "blist.insert(0, \"0\")   # Add the string '0' before the first element.\n",
    "blist"
   ]
  },
  {
   "cell_type": "code",
   "execution_count": 28,
   "metadata": {},
   "outputs": [
    {
     "name": "stdout",
     "output_type": "stream",
     "text": [
      "['0', 1, 'two', 3.0, '4', 5, 6]\n",
      "7\n"
     ]
    }
   ],
   "source": [
    "blist.extend([5,6])    # Insert one list into another.\n",
    "print(blist)\n",
    "print(len(blist))"
   ]
  },
  {
   "cell_type": "code",
   "execution_count": 29,
   "metadata": {},
   "outputs": [
    {
     "data": {
      "text/plain": [
       "['0', 1, 'two', 3.0, '4', 5, 6, 7]"
      ]
     },
     "execution_count": 29,
     "metadata": {},
     "output_type": "execute_result"
    }
   ],
   "source": [
    "blist.append(7)\n",
    "blist"
   ]
  },
  {
   "cell_type": "code",
   "execution_count": 30,
   "metadata": {},
   "outputs": [
    {
     "data": {
      "text/plain": [
       "['0', 1, 'two', 3.0, '4', 5, 6, 7, '0', 1, 'two', 3.0, '4', 5, 6, 7]"
      ]
     },
     "execution_count": 30,
     "metadata": {},
     "output_type": "execute_result"
    }
   ],
   "source": [
    "# Multiplication doubles the elements in the list (not term-by-term multiplication).\n",
    "\n",
    "blist = blist*2\n",
    "blist"
   ]
  },
  {
   "cell_type": "code",
   "execution_count": 31,
   "metadata": {},
   "outputs": [
    {
     "data": {
      "text/plain": [
       "['0', 1, 'two', 3.0, 5, 6, 7, '0', 1, 'two', 3.0, '4', 5, 6, 7]"
      ]
     },
     "execution_count": 31,
     "metadata": {},
     "output_type": "execute_result"
    }
   ],
   "source": [
    "# Search for and remove the first element matching '4'.\n",
    "\n",
    "blist.remove(\"4\")\n",
    "blist"
   ]
  },
  {
   "cell_type": "code",
   "execution_count": 32,
   "metadata": {},
   "outputs": [
    {
     "data": {
      "text/plain": [
       "['0', 1, 'two', 3.0, 5, 6, 7, '0', 1, 'two', 3.0, 5, 6, 7]"
      ]
     },
     "execution_count": 32,
     "metadata": {},
     "output_type": "execute_result"
    }
   ],
   "source": [
    "# Search for and remove the first element matching '4'.\n",
    "# There are now no '4' elements left.\n",
    "\n",
    "blist.remove('4')\n",
    "blist"
   ]
  },
  {
   "cell_type": "markdown",
   "metadata": {},
   "source": [
    "##### List Element Access\n",
    "\n",
    "Individual elements (or ranges of elements) in the list can be accessed using the square bracket operators [ ]. For example:"
   ]
  },
  {
   "cell_type": "code",
   "execution_count": 33,
   "metadata": {},
   "outputs": [
    {
     "name": "stdout",
     "output_type": "stream",
     "text": [
      "0\n",
      "5\n"
     ]
    }
   ],
   "source": [
    "# Access elements with respect to the front of the list.\n",
    "# The first element has index 0.\n",
    "\n",
    "print(blist[0])\n",
    "print(blist[4])"
   ]
  },
  {
   "cell_type": "code",
   "execution_count": 34,
   "metadata": {},
   "outputs": [
    {
     "name": "stdout",
     "output_type": "stream",
     "text": [
      "7\n",
      "6\n",
      "5\n"
     ]
    }
   ],
   "source": [
    "# Access elements with respect to the end of the list.\n",
    "# The last element has index -1.\n",
    "\n",
    "print(blist[-1])\n",
    "print(blist[-2])\n",
    "print(blist[-3])"
   ]
  },
  {
   "cell_type": "code",
   "execution_count": 35,
   "metadata": {},
   "outputs": [
    {
     "data": {
      "text/plain": [
       "['0', 1, 'two', 3.0]"
      ]
     },
     "execution_count": 35,
     "metadata": {},
     "output_type": "execute_result"
    }
   ],
   "source": [
    "blist[0:4]"
   ]
  },
  {
   "cell_type": "code",
   "execution_count": 36,
   "metadata": {},
   "outputs": [
    {
     "name": "stdout",
     "output_type": "stream",
     "text": [
      "['0', 1, 'two', 3.0, 5, 6, 7, '0', 1, 'two', 3.0, 5, 6, 7]\n"
     ]
    },
    {
     "data": {
      "text/plain": [
       "['0', 'two', 5]"
      ]
     },
     "execution_count": 36,
     "metadata": {},
     "output_type": "execute_result"
    }
   ],
   "source": [
    "print(blist)   # list slicing example:\n",
    "blist[0:6:2]   # sytax: start, stop, stride"
   ]
  },
  {
   "cell_type": "markdown",
   "metadata": {},
   "source": [
    "This is an example of a slice, where we grab a subset of the list and also decide to step through the list by skipping every other element. The syntax is\n",
    "\n",
    "`listname[start:stop:stride]`\n",
    "\n",
    "Note that if start and stop are left blank, the full list is used in the slice by default."
   ]
  },
  {
   "cell_type": "code",
   "execution_count": 37,
   "metadata": {},
   "outputs": [
    {
     "data": {
      "text/plain": [
       "['0', 'two', 5, 7, 1, 3.0, 6]"
      ]
     },
     "execution_count": 37,
     "metadata": {},
     "output_type": "execute_result"
    }
   ],
   "source": [
    "blist[::2]"
   ]
  },
  {
   "cell_type": "code",
   "execution_count": 38,
   "metadata": {},
   "outputs": [
    {
     "name": "stdout",
     "output_type": "stream",
     "text": [
      "[7, 6, 5, 3.0, 'two', 1, '0', 7, 6, 5, 3.0, 'two', 1, '0']\n",
      "['0', 1, 'two', 3.0, 5, 6, 7, '0', 1, 'two', 3.0, 5, 6, 7]\n"
     ]
    }
   ],
   "source": [
    "print(blist[::-1])   # An easy way to reverse the order of elements\n",
    "print(blist)"
   ]
  },
  {
   "cell_type": "markdown",
   "metadata": {},
   "source": [
    "A simple built-in function that is used a lot is the range function. It is not a list but returns one so we will discuss it here briefly. The syntax of the function is range(starting number, ending number, step size ). All three function arguments are required to be integers with the ending number not being included in the list. Additionally the step size does not have to be specified, and if it is not the value is assumed to be 1."
   ]
  },
  {
   "cell_type": "code",
   "execution_count": 39,
   "metadata": {},
   "outputs": [
    {
     "name": "stdout",
     "output_type": "stream",
     "text": [
      "0\n",
      "1\n",
      "2\n",
      "3\n",
      "4\n",
      "5\n",
      "6\n",
      "7\n",
      "8\n",
      "9\n"
     ]
    }
   ],
   "source": [
    "for i in range(0,10):\n",
    "    print(i)"
   ]
  },
  {
   "cell_type": "code",
   "execution_count": 40,
   "metadata": {},
   "outputs": [
    {
     "name": "stdout",
     "output_type": "stream",
     "text": [
      "0\n",
      "2\n",
      "4\n",
      "6\n",
      "8\n"
     ]
    }
   ],
   "source": [
    "for batman in range(0,10,2):\n",
    "    print(batman)"
   ]
  },
  {
   "cell_type": "markdown",
   "metadata": {},
   "source": [
    "### Conditional Statements\n",
    "\n",
    "Conditionals are useful for **altering the flow of control** in your programs. For example, you can execute blocks of code (or skip them entirely) if certain conditions are met.\n",
    "\n",
    "Conditions are created using `if/elif/else` blocks.\n",
    "\n",
    "For those of you familiar with C, C++, Java, and similar languages, you are probably used to code blocks being marked off with curly braces: { }\n",
    "\n",
    "In Python braces are not used. Code blocks are *indented*, and the Python interpreter decides what's in a block depending on the indentation. Good practice (for readability) is to use 4 spaces per indentation. If you are programming in a jupyter notebook, the notebook will automatically indent conditional blocks for you."
   ]
  },
  {
   "cell_type": "code",
   "execution_count": 41,
   "metadata": {},
   "outputs": [
    {
     "name": "stdout",
     "output_type": "stream",
     "text": [
      "x > 10\n"
     ]
    }
   ],
   "source": [
    "x = 54\n",
    "\n",
    "if x > 10:\n",
    "    print(\"x > 10\")\n",
    "elif x > 5:\n",
    "    print(\"x > 5\")\n",
    "else:\n",
    "    print(\"x <= 5\")"
   ]
  },
  {
   "cell_type": "code",
   "execution_count": 42,
   "metadata": {},
   "outputs": [
    {
     "name": "stdout",
     "output_type": "stream",
     "text": [
      "True\n",
      "x is even\n"
     ]
    }
   ],
   "source": [
    "isEven = (x % 2 == 0)    # Store a boolean value\n",
    "print(isEven)\n",
    "\n",
    "# Note the perverse double negative in this boolean expression...\n",
    "if not isEven:\n",
    "    print(\"x is odd\")\n",
    "else:\n",
    "    print(\"x is even\")"
   ]
  },
  {
   "cell_type": "markdown",
   "metadata": {},
   "source": [
    "#### Comparison Operators\n",
    "\n",
    "There are several predefined operators used to make boolean comparisons in Python. They are similar to operators used in C, C++, and Java:\n",
    "\n",
    "`==` ... test for equality\n",
    "\n",
    "`!=` ... test for not equal\n",
    "\n",
    "`>` ...  greater than\n",
    "\n",
    "`>=` ... greater than or equal to\n",
    "\n",
    "`<` ... less than\n",
    "\n",
    "`<=` ... less than or equal to\n",
    "\n",
    "#### Combining Boolean Values\n",
    "\n",
    "Following the usual rules of boolean algebra, boolean values can be negated or combined in several ways:\n",
    "\n",
    "##### Logical AND\n",
    "\n",
    "You can combine two boolean variables using the operator `&&` or the keyword `and`:"
   ]
  },
  {
   "cell_type": "code",
   "execution_count": 43,
   "metadata": {},
   "outputs": [
    {
     "name": "stdout",
     "output_type": "stream",
     "text": [
      "x  y  |  x && y\n",
      "---------------\n",
      "1  1  |    1\n",
      "1  0  |    0\n",
      "0  1  |    0\n",
      "0  0  |    0\n"
     ]
    }
   ],
   "source": [
    "print('x  y  |  x && y')\n",
    "print('---------------')\n",
    "\n",
    "for x in [True, False]:\n",
    "    for y in [True, False]:\n",
    "        print('{:d}  {:d}  |    {:d}'.format(x, y, x and y))"
   ]
  },
  {
   "cell_type": "code",
   "execution_count": 44,
   "metadata": {},
   "outputs": [
    {
     "name": "stdout",
     "output_type": "stream",
     "text": [
      "10\n"
     ]
    }
   ],
   "source": [
    "# Will evaluate to True and print the output.\n",
    "\n",
    "x = 10\n",
    "if x > 2 and x < 20:\n",
    "    print(x)"
   ]
  },
  {
   "cell_type": "code",
   "execution_count": 45,
   "metadata": {},
   "outputs": [],
   "source": [
    "# Will evaluate to False and not print the output.\n",
    "\n",
    "if x < 2 and x > 20:\n",
    "    print(x)"
   ]
  },
  {
   "cell_type": "markdown",
   "metadata": {},
   "source": [
    "##### Logical OR\n",
    "\n",
    "You can also combine two boolean variables using the operator `||` or the keyword `or`:"
   ]
  },
  {
   "cell_type": "code",
   "execution_count": 46,
   "metadata": {},
   "outputs": [
    {
     "name": "stdout",
     "output_type": "stream",
     "text": [
      "x  y  |  x || y\n",
      "---------------\n",
      "1  1  |    1\n",
      "1  0  |    1\n",
      "0  1  |    1\n",
      "0  0  |    0\n"
     ]
    }
   ],
   "source": [
    "print('x  y  |  x || y')\n",
    "print('---------------')\n",
    "\n",
    "for x in [True, False]:\n",
    "    for y in [True, False]:\n",
    "\n",
    "        print('{:d}  {:d}  |    {:d}'.format(x, y, x or y))"
   ]
  },
  {
   "cell_type": "code",
   "execution_count": 47,
   "metadata": {},
   "outputs": [
    {
     "name": "stdout",
     "output_type": "stream",
     "text": [
      "10\n"
     ]
    }
   ],
   "source": [
    "# Will evaluate to True and print the output.\n",
    "\n",
    "x = 10\n",
    "if x > 2 or x < 0:\n",
    "    print(x)"
   ]
  },
  {
   "cell_type": "code",
   "execution_count": 48,
   "metadata": {},
   "outputs": [],
   "source": [
    "# Will evaluate to False and print the output.\n",
    "\n",
    "if x < 2 or x > 20:\n",
    "    print(x)"
   ]
  },
  {
   "cell_type": "markdown",
   "metadata": {},
   "source": [
    "##### Logical NOT\n",
    "\n",
    "It's possible to negate a boolean expression using the keyword `not`:"
   ]
  },
  {
   "cell_type": "code",
   "execution_count": 49,
   "metadata": {},
   "outputs": [
    {
     "name": "stdout",
     "output_type": "stream",
     "text": [
      "x  | not x\n",
      "----------\n",
      "1  |  0\n",
      "0  |  1\n"
     ]
    }
   ],
   "source": [
    "print('x  | not x')\n",
    "print('----------')\n",
    "for x in [True, False]:\n",
    "    print('{:d}  |  {:d}'.format(x, not x))"
   ]
  },
  {
   "cell_type": "markdown",
   "metadata": {},
   "source": [
    "A more complex truth table demonstrating the duality\n",
    "\n",
    "$\\overline{AB} = \\overline{A}+\\overline{B}$:"
   ]
  },
  {
   "cell_type": "code",
   "execution_count": 50,
   "metadata": {},
   "outputs": [
    {
     "name": "stdout",
     "output_type": "stream",
     "text": [
      "A  B  |  A and B  |  !(A and B)  | !A or !B\n",
      "-------------------------------------------\n",
      "1  1  |     1     |       0      |    0\n",
      "1  0  |     0     |       1      |    1\n",
      "0  1  |     0     |       1      |    1\n",
      "0  0  |     0     |       1      |    1\n"
     ]
    }
   ],
   "source": [
    "print('A  B  |  A and B  |  !(A and B)  | !A or !B')\n",
    "print('-------------------------------------------')\n",
    "for A in [True, False]:\n",
    "    for B in [True, False]:\n",
    "        print('{:d}  {:d}  |     {:d}     |       {:d}      |    {:d}'.format(\n",
    "            A, B, A and B, not (A and B), not A or not B)) "
   ]
  },
  {
   "cell_type": "markdown",
   "metadata": {},
   "source": [
    "### Loops\n",
    "\n",
    "Loops are useful for executing blocks of code as long as a logical condition is satisfied.\n",
    "\n",
    "Once the loop condition is no longer satisfied, the flow of control is returned to the main body of the program. Note that **infinite loops**, a serious runtime bug where the loop condition never evaluates to `False`, are possible, so you have to be careful.\n",
    "\n",
    "#### While Loop\n",
    "\n",
    "The `while` loop evaluates until a condition is false. Note that loops can be nested inside each other, and can also contain nested conditional statements."
   ]
  },
  {
   "cell_type": "code",
   "execution_count": 51,
   "metadata": {},
   "outputs": [
    {
     "name": "stdout",
     "output_type": "stream",
     "text": [
      "2\n",
      "4\n",
      "6\n",
      "8\n",
      "10\n"
     ]
    }
   ],
   "source": [
    "i = 0\n",
    "while i < 10:         # Loop condition: i < 10\n",
    "    i += 1            # Increment the value of i\n",
    "    if i % 2 == 0:    # Print i if it's even\n",
    "        print(i)"
   ]
  },
  {
   "cell_type": "markdown",
   "metadata": {},
   "source": [
    "#### For Loop\n",
    "\n",
    "The `for` loop provides the same basic functionality as the `while` loop, but allows for a simpler syntax in certain cases.\n",
    "\n",
    "For example, if we wanted to access all the elements inside a list one by one, we could write a while loop with a variable index `i` and access the list elements as `listname[i]`, incrementing `i` until it's the same size as the length of the list.\n",
    "\n",
    "However, the `for` loop lets us avoid the need to declare an index variable. For example:"
   ]
  },
  {
   "cell_type": "code",
   "execution_count": 52,
   "metadata": {},
   "outputs": [
    {
     "name": "stdout",
     "output_type": "stream",
     "text": [
      "2\n",
      "4\n",
      "6\n",
      "8\n",
      "10\n"
     ]
    }
   ],
   "source": [
    "for x in range(1,11):    # Loop through a list of values [1..10]\n",
    "    if x % 2 == 0:       # Print the list value if it's even\n",
    "        print(x)"
   ]
  },
  {
   "cell_type": "code",
   "execution_count": 53,
   "metadata": {},
   "outputs": [
    {
     "name": "stdout",
     "output_type": "stream",
     "text": [
      "1  a\n",
      "2  b\n",
      "3  c\n",
      "4  d\n",
      "5  e\n"
     ]
    }
   ],
   "source": [
    "for i, x in enumerate(['a', 'b', 'c', 'd', 'e']):\n",
    "    print('{:d}  {:s}'.format(i+1, x))"
   ]
  },
  {
   "cell_type": "markdown",
   "metadata": {},
   "source": [
    "##### List Comprehension and Zipping Lists in a For Loop"
   ]
  },
  {
   "cell_type": "markdown",
   "metadata": {},
   "source": [
    "If we are interested in building lists we can start from a blank list and append things to it in a for loop, or use a **list comprehension** which combines for loops and list creation into line. The syntax is a set of square brackets that contains formula and a for loop."
   ]
  },
  {
   "cell_type": "code",
   "execution_count": 54,
   "metadata": {},
   "outputs": [
    {
     "name": "stdout",
     "output_type": "stream",
     "text": [
      "[1, 4, 9, 16, 25, 36, 49, 64, 81, 100]\n"
     ]
    }
   ],
   "source": [
    "squaredrange = [e**2 for e in range(1,11)]\n",
    "\n",
    "print(squaredrange)"
   ]
  },
  {
   "cell_type": "markdown",
   "metadata": {},
   "source": [
    "You can also loop through **two lists simultaneously** using the `zip` function:"
   ]
  },
  {
   "cell_type": "code",
   "execution_count": 55,
   "metadata": {},
   "outputs": [
    {
     "name": "stdout",
     "output_type": "stream",
     "text": [
      " 1    1\n",
      " 2    4\n",
      " 3    9\n",
      " 4   16\n",
      " 5   25\n",
      " 6   36\n",
      " 7   49\n",
      " 8   64\n",
      " 9   81\n",
      "10  100\n"
     ]
    }
   ],
   "source": [
    "mylist  = range(1,11)\n",
    "mylist2 = [e**2 for e in mylist]\n",
    "\n",
    "for x, y in zip(mylist, mylist2):\n",
    "    print('{:2d} {:4d}'.format(x, y))"
   ]
  },
  {
   "cell_type": "markdown",
   "metadata": {},
   "source": [
    "### Functions\n",
    "\n",
    "Functions are subroutines that accept some input and produce zero or more outputs. They are typically used to define common tasks in a program.\n",
    "\n",
    "Rule of thumb: if you find that you are copying a piece of code over and over inside your script, it should probably go into a function.\n",
    "\n",
    "#### Example: Rounding\n",
    "\n",
    "The following function will round integers to the nearest 10:"
   ]
  },
  {
   "cell_type": "code",
   "execution_count": 56,
   "metadata": {},
   "outputs": [
    {
     "name": "stdout",
     "output_type": "stream",
     "text": [
      "    2     0\n",
      "    7    10\n",
      "   12    10\n",
      "   17    20\n",
      "   22    20\n",
      "   27    30\n",
      "   32    30\n",
      "   37    40\n",
      "   42    40\n",
      "   47    50\n"
     ]
    }
   ],
   "source": [
    "def round_int(x):\n",
    "    # Note that we are using floor division (assumes Python 3).\n",
    "    return 10 * ((x + 5)//10)\n",
    "\n",
    "for x in range(2, 50, 5):\n",
    "    print('{:5d} {:5d}'.format(x, round_int(x)))"
   ]
  },
  {
   "cell_type": "markdown",
   "metadata": {},
   "source": [
    "# In-Class Exercise\n",
    "\n",
    "With the small amount we've gone through, you can already write reasonably sophisticated programs. For example, we can write a loop that generates the Fibonacci sequence.\n",
    "\n",
    "Just to remind you, the Fibonacci sequence is the list of numbers\n",
    "\n",
    "1, 1, 2, 3, 5, 8, 13, 21, 34, 55, ...\n",
    "\n",
    "It is defined by the linear homogeneous recurrence relation\n",
    "\n",
    "$F_{n} = F_{n-1} + F_{n-2}$, where $F_0=F_1=1$.\n",
    "\n",
    "The exercise is:\n",
    "1. Write a Python function that generate $F_n$ given $n$.\n",
    "2. Use your function to generate the first 100 numbers in the Fibonacci sequence."
   ]
  },
  {
   "cell_type": "code",
   "execution_count": 57,
   "metadata": {},
   "outputs": [],
   "source": [
    "# Easy implementation: recursive function\n",
    "\n",
    "def fib(n):\n",
    "    \"\"\"Generate term n of the Fibonacci sequence\"\"\"\n",
    "    if n <= 1:\n",
    "        # if n==0 or n==1: return 1\n",
    "        return 1\n",
    "    else:\n",
    "        return fib(n-1) + fib(n-2)"
   ]
  },
  {
   "cell_type": "code",
   "execution_count": 58,
   "metadata": {},
   "outputs": [
    {
     "name": "stdout",
     "output_type": "stream",
     "text": [
      "  0                        1\n",
      "  1                        1\n",
      "  2                        2\n",
      "  3                        3\n",
      "  4                        5\n",
      "  5                        8\n",
      "  6                       13\n",
      "  7                       21\n",
      "  8                       34\n",
      "  9                       55\n",
      " 10                       89\n",
      " 11                      144\n",
      " 12                      233\n",
      " 13                      377\n",
      " 14                      610\n",
      " 15                      987\n",
      " 16                     1597\n",
      " 17                     2584\n",
      " 18                     4181\n",
      " 19                     6765\n",
      " 20                    10946\n",
      " 21                    17711\n",
      " 22                    28657\n",
      " 23                    46368\n",
      " 24                    75025\n",
      " 25                   121393\n",
      " 26                   196418\n",
      " 27                   317811\n",
      " 28                   514229\n",
      " 29                   832040\n",
      " 30                  1346269\n",
      " 31                  2178309\n",
      " 32                  3524578\n",
      " 33                  5702887\n",
      " 34                  9227465\n"
     ]
    }
   ],
   "source": [
    "# Only generate up to element 35 in the sequence, because this function is s-l-o-w.\n",
    "\n",
    "for n in range(0, 35):\n",
    "    Fn = fib(n)\n",
    "    print('{:3d}{:25d}'.format(n, Fn))"
   ]
  },
  {
   "cell_type": "markdown",
   "metadata": {},
   "source": [
    "This function will work just fine for small n.  Unfortunately, the recursive calls to `fib` cause the **function call stack** to grow rapidly with n.  When n gets sufficiently large, you may hit the Python call stack limit. At that point your program will crash.\n",
    "\n",
    "Even worse, the call is s-l-o-w. Using the builtin `timeit` function available in the notebook, we can time the length of the function call to evaluate Fibonacci element 20. It will take several milliseconds, which doesn't sound bad, but it's actually very slow in computer terms. Imagine calling this function millions of times in a loop; it will be a huge bottleneck."
   ]
  },
  {
   "cell_type": "code",
   "execution_count": 59,
   "metadata": {},
   "outputs": [
    {
     "name": "stdout",
     "output_type": "stream",
     "text": [
      "2.97 ms ± 51.7 µs per loop (mean ± std. dev. of 7 runs, 100 loops each)\n"
     ]
    }
   ],
   "source": [
    "%timeit(fib(20))"
   ]
  },
  {
   "cell_type": "markdown",
   "metadata": {},
   "source": [
    "This next implementation uses two \"state variables\" `a` and `b` to build up the Fibonacci sequence. Instead of computing the series recursively, which builds up a huge stack of function calls in memory, all of the work is done by an internal `while` loop."
   ]
  },
  {
   "cell_type": "code",
   "execution_count": 60,
   "metadata": {},
   "outputs": [],
   "source": [
    "# Better implementation which uses two state variables to compute the sequence.\n",
    "\n",
    "def fibBetter(n):\n",
    "    \"\"\"Generate the Fibonacci series at position n\"\"\"\n",
    "    a, b = 0, 1                  # initial values\n",
    "    while n > 0:                 # build up the series from n=0\n",
    "        a, b, n = b, a+b, n-1    # store results in loop variables\n",
    "    return b"
   ]
  },
  {
   "cell_type": "markdown",
   "metadata": {},
   "source": [
    "While this doesn't seem like a major change, the time it takes to run the function is of order a few microseconds, or 1000 times faster than the recursive version. Quite a nice optimization!"
   ]
  },
  {
   "cell_type": "code",
   "execution_count": 61,
   "metadata": {},
   "outputs": [
    {
     "name": "stdout",
     "output_type": "stream",
     "text": [
      "1.64 µs ± 38.6 ns per loop (mean ± std. dev. of 7 runs, 1000000 loops each)\n"
     ]
    }
   ],
   "source": [
    "%timeit(fibBetter(20))"
   ]
  },
  {
   "cell_type": "markdown",
   "metadata": {},
   "source": [
    "As a result, it's trivial to compute the first 100 Fibonacci numbers; `fibBetter` runs almost instantly, while `fib` probably would have crashed the notebook due to its memory requirements before getting even halfway through."
   ]
  },
  {
   "cell_type": "code",
   "execution_count": 62,
   "metadata": {},
   "outputs": [
    {
     "name": "stdout",
     "output_type": "stream",
     "text": [
      "  0                        1\n",
      "  1                        1\n",
      "  2                        2\n",
      "  3                        3\n",
      "  4                        5\n",
      "  5                        8\n",
      "  6                       13\n",
      "  7                       21\n",
      "  8                       34\n",
      "  9                       55\n",
      " 10                       89\n",
      " 11                      144\n",
      " 12                      233\n",
      " 13                      377\n",
      " 14                      610\n",
      " 15                      987\n",
      " 16                     1597\n",
      " 17                     2584\n",
      " 18                     4181\n",
      " 19                     6765\n",
      " 20                    10946\n",
      " 21                    17711\n",
      " 22                    28657\n",
      " 23                    46368\n",
      " 24                    75025\n",
      " 25                   121393\n",
      " 26                   196418\n",
      " 27                   317811\n",
      " 28                   514229\n",
      " 29                   832040\n",
      " 30                  1346269\n",
      " 31                  2178309\n",
      " 32                  3524578\n",
      " 33                  5702887\n",
      " 34                  9227465\n",
      " 35                 14930352\n",
      " 36                 24157817\n",
      " 37                 39088169\n",
      " 38                 63245986\n",
      " 39                102334155\n",
      " 40                165580141\n",
      " 41                267914296\n",
      " 42                433494437\n",
      " 43                701408733\n",
      " 44               1134903170\n",
      " 45               1836311903\n",
      " 46               2971215073\n",
      " 47               4807526976\n",
      " 48               7778742049\n",
      " 49              12586269025\n",
      " 50              20365011074\n",
      " 51              32951280099\n",
      " 52              53316291173\n",
      " 53              86267571272\n",
      " 54             139583862445\n",
      " 55             225851433717\n",
      " 56             365435296162\n",
      " 57             591286729879\n",
      " 58             956722026041\n",
      " 59            1548008755920\n",
      " 60            2504730781961\n",
      " 61            4052739537881\n",
      " 62            6557470319842\n",
      " 63           10610209857723\n",
      " 64           17167680177565\n",
      " 65           27777890035288\n",
      " 66           44945570212853\n",
      " 67           72723460248141\n",
      " 68          117669030460994\n",
      " 69          190392490709135\n",
      " 70          308061521170129\n",
      " 71          498454011879264\n",
      " 72          806515533049393\n",
      " 73         1304969544928657\n",
      " 74         2111485077978050\n",
      " 75         3416454622906707\n",
      " 76         5527939700884757\n",
      " 77         8944394323791464\n",
      " 78        14472334024676221\n",
      " 79        23416728348467685\n",
      " 80        37889062373143906\n",
      " 81        61305790721611591\n",
      " 82        99194853094755497\n",
      " 83       160500643816367088\n",
      " 84       259695496911122585\n",
      " 85       420196140727489673\n",
      " 86       679891637638612258\n",
      " 87      1100087778366101931\n",
      " 88      1779979416004714189\n",
      " 89      2880067194370816120\n",
      " 90      4660046610375530309\n",
      " 91      7540113804746346429\n",
      " 92     12200160415121876738\n",
      " 93     19740274219868223167\n",
      " 94     31940434634990099905\n",
      " 95     51680708854858323072\n",
      " 96     83621143489848422977\n",
      " 97    135301852344706746049\n",
      " 98    218922995834555169026\n",
      " 99    354224848179261915075\n"
     ]
    }
   ],
   "source": [
    "for n in range(0, 100):\n",
    "    Fn = fibBetter(n)\n",
    "    print(\"%3d%25d\" % (n, Fn))"
   ]
  },
  {
   "cell_type": "markdown",
   "metadata": {},
   "source": [
    "## Accessing Functions Beyond the Built-In Functions\n",
    "\n",
    "If we want to use libraries and modules not defined within the built-in functionality of python we have to import them. There are a number of ways to do this."
   ]
  },
  {
   "cell_type": "code",
   "execution_count": 63,
   "metadata": {},
   "outputs": [],
   "source": [
    "import numpy as np\n",
    "import scipy as sp"
   ]
  },
  {
   "cell_type": "markdown",
   "metadata": {},
   "source": [
    "This imports the module `numpy` and the module `scipy`, and creates a reference to that modules in the current namespace. After you’ve run this statement, you can use `np.name` and `sp.name` to refer to constants, functions, and classes defined in module numpy and scipy."
   ]
  },
  {
   "cell_type": "code",
   "execution_count": 64,
   "metadata": {},
   "outputs": [
    {
     "data": {
      "text/plain": [
       "3.141592653589793"
      ]
     },
     "execution_count": 64,
     "metadata": {},
     "output_type": "execute_result"
    }
   ],
   "source": [
    "np.pi"
   ]
  },
  {
   "cell_type": "code",
   "execution_count": 65,
   "metadata": {},
   "outputs": [
    {
     "data": {
      "text/plain": [
       "(0.8660254037844388, -0.4999999999999998)"
      ]
     },
     "execution_count": 65,
     "metadata": {},
     "output_type": "execute_result"
    }
   ],
   "source": [
    "# Evaluate the sine and cosine of 120 degrees.\n",
    "np.sin(2*np.pi/3), np.cos(2*np.pi/3)"
   ]
  },
  {
   "cell_type": "code",
   "execution_count": 66,
   "metadata": {},
   "outputs": [
    {
     "data": {
      "text/plain": [
       "(0.36787944117144233, -1.0, -1.4426950408889634, -0.4342944819032518)"
      ]
     },
     "execution_count": 66,
     "metadata": {},
     "output_type": "execute_result"
    }
   ],
   "source": [
    "# Exponentiation and logarithms.\n",
    "\n",
    "a = np.exp(-1.)     # 1/e = 0.368\n",
    "b = np.log(a)       # ln(1/e) = -1\n",
    "c = np.log2(a)      # base-2 log of 1/e\n",
    "d = np.log10(a)     # base-10 log of 1/e\n",
    "\n",
    "a, b, c, d"
   ]
  },
  {
   "cell_type": "code",
   "execution_count": 67,
   "metadata": {},
   "outputs": [],
   "source": [
    "from numpy import *"
   ]
  },
  {
   "cell_type": "markdown",
   "metadata": {},
   "source": [
    "This imports the module numpy, and creates references in the current namespace to all public objects defined by that module (that is, everything that doesn’t have a name starting with “_”).\n",
    "\n",
    "Or in other words, after you’ve run this statement, you can simply use a plain name to refer to things defined in module numpy. Here, numpy itself is not defined, so numpy.name doesn’t work. If name was already defined, it is replaced by the new version. Also, if name in numpy is changed to point to some other object, your module won’t notice."
   ]
  },
  {
   "cell_type": "code",
   "execution_count": 68,
   "metadata": {},
   "outputs": [
    {
     "data": {
      "text/plain": [
       "3.141592653589793"
      ]
     },
     "execution_count": 68,
     "metadata": {},
     "output_type": "execute_result"
    }
   ],
   "source": [
    "pi"
   ]
  },
  {
   "cell_type": "markdown",
   "metadata": {},
   "source": [
    "#### Importing Submodules\n",
    "\n",
    "You can also import submodules from within a module.\n",
    "\n",
    "For example, `scipy` has a submodule called `special` that contains a number of useful transcendental functions beyond the basic exponentiation and trigonometric functions available in `numpy`.\n",
    "\n",
    "In the example below, we make three function calls to the Error function `Erf` using this module."
   ]
  },
  {
   "cell_type": "code",
   "execution_count": 69,
   "metadata": {},
   "outputs": [
    {
     "name": "stdout",
     "output_type": "stream",
     "text": [
      "0.0 0.8427007929497148 0.9953222650189527\n"
     ]
    }
   ],
   "source": [
    "from scipy import special\n",
    "\n",
    "# The error function is the cumulative distribution of a Gaussian with mean 0 and width 1\n",
    "# (a.k.a., the normal distribution).\n",
    "\n",
    "print(special.erf(0),\n",
    "      special.erf(1),\n",
    "      special.erf(2))"
   ]
  },
  {
   "cell_type": "markdown",
   "metadata": {},
   "source": [
    "## NumPy Tips and Tricks\n",
    "\n",
    "NumPy is optimized for numerical work. The `array` type inside of the module behaves a lot like a list, but it is *vectorized* so that you can apply arithmetic operations and other functions to the array without having to loop through it.\n",
    "\n",
    "For example, when we wanted to square every element inside a python list we used a list comprehension:"
   ]
  },
  {
   "cell_type": "code",
   "execution_count": 70,
   "metadata": {},
   "outputs": [
    {
     "data": {
      "text/plain": [
       "[1, 4, 9, 16, 25, 36, 49, 64, 81, 100]"
      ]
     },
     "execution_count": 70,
     "metadata": {},
     "output_type": "execute_result"
    }
   ],
   "source": [
    "mylist = range(1,11)\n",
    "[x**2 for x in mylist]"
   ]
  },
  {
   "cell_type": "markdown",
   "metadata": {},
   "source": [
    "This isn't that hard, but the syntax is a little ugly and we do have to explicitly loop through the list. In contrast, to square all the elements in the NumPy array you just apply the operator to the array variable itself:"
   ]
  },
  {
   "cell_type": "code",
   "execution_count": 71,
   "metadata": {},
   "outputs": [
    {
     "data": {
      "text/plain": [
       "array([  1,   4,   9,  16,  25,  36,  49,  64,  81, 100])"
      ]
     },
     "execution_count": 71,
     "metadata": {},
     "output_type": "execute_result"
    }
   ],
   "source": [
    "myarray = np.arange(1,11)\n",
    "myarray**2"
   ]
  },
  {
   "cell_type": "markdown",
   "metadata": {},
   "source": [
    "### Evenly Spaced Numbers\n",
    "\n",
    "NumPy provides two functions to give evenly spaced numbers on linear or logarithmic scales."
   ]
  },
  {
   "cell_type": "code",
   "execution_count": 72,
   "metadata": {},
   "outputs": [
    {
     "data": {
      "text/plain": [
       "array([ 1.  ,  1.45,  1.9 ,  2.35,  2.8 ,  3.25,  3.7 ,  4.15,  4.6 ,\n",
       "        5.05,  5.5 ,  5.95,  6.4 ,  6.85,  7.3 ,  7.75,  8.2 ,  8.65,\n",
       "        9.1 ,  9.55, 10.  ])"
      ]
     },
     "execution_count": 72,
     "metadata": {},
     "output_type": "execute_result"
    }
   ],
   "source": [
    "np.linspace(1, 10, 21)   # gives 21 evenly spaced numbers in [1..10]"
   ]
  },
  {
   "cell_type": "code",
   "execution_count": 73,
   "metadata": {},
   "outputs": [
    {
     "data": {
      "text/plain": [
       "array([1.e+01, 1.e+02, 1.e+03, 1.e+04, 1.e+05, 1.e+06])"
      ]
     },
     "execution_count": 73,
     "metadata": {},
     "output_type": "execute_result"
    }
   ],
   "source": [
    "np.logspace(1, 6, 6)     # gives 6 logarithmically spaced numbers\n",
    "                         # between 1e1=10 and 1e6=1000000"
   ]
  },
  {
   "cell_type": "code",
   "execution_count": 74,
   "metadata": {},
   "outputs": [
    {
     "data": {
      "text/plain": [
       "array([ 2.,  4.,  8., 16., 32., 64.])"
      ]
     },
     "execution_count": 74,
     "metadata": {},
     "output_type": "execute_result"
    }
   ],
   "source": [
    "np.logspace(1, 6, 6, base=2)    # same as above, but using base-2 logarithm"
   ]
  },
  {
   "cell_type": "markdown",
   "metadata": {},
   "source": [
    "### Slicing Arrays with Boolean Masks\n",
    "\n",
    "An extremely useful feature in NumPy is the ability to create a \"mask\" array which can select values satisfying a logical condition:"
   ]
  },
  {
   "cell_type": "code",
   "execution_count": 75,
   "metadata": {},
   "outputs": [
    {
     "name": "stdout",
     "output_type": "stream",
     "text": [
      "[ True  True  True False False False False False]\n"
     ]
    }
   ],
   "source": [
    "x = np.arange(0, 8)      # [0, 1, 2, 3, 4, 5, 6, 7]\n",
    "y = 3*x                  # [0, 3, 6, 9, 12, 15, 18, 21]\n",
    "\n",
    "c = x < 3\n",
    "\n",
    "# Print whether or not each element is < 3.\n",
    "print(c)"
   ]
  },
  {
   "cell_type": "code",
   "execution_count": 76,
   "metadata": {},
   "outputs": [
    {
     "name": "stdout",
     "output_type": "stream",
     "text": [
      "[0 1 2]\n"
     ]
    }
   ],
   "source": [
    "# Select out only the elements of x for which the corresponding elements of c are < 3.\n",
    "print(x[c])"
   ]
  },
  {
   "cell_type": "code",
   "execution_count": 77,
   "metadata": {},
   "outputs": [
    {
     "name": "stdout",
     "output_type": "stream",
     "text": [
      "[0 3 6]\n",
      "[ 9 12 15 18 21]\n"
     ]
    }
   ],
   "source": [
    "# Select out only the elements of y for which the corresponding elements of c are < 3.\n",
    "print(y[c])\n",
    "\n",
    "# Select out only the elements of y for which the corresponding elements of x are >= 3.\n",
    "print(y[x >= 3])"
   ]
  },
  {
   "cell_type": "code",
   "execution_count": 78,
   "metadata": {},
   "outputs": [
    {
     "name": "stdout",
     "output_type": "stream",
     "text": [
      "[ 0  3  6 18 21]\n"
     ]
    }
   ],
   "source": [
    "# Combine cuts on x with bitwise OR (| symbol) or AND (& symbol).\n",
    "c = (x<3) | (x>5)\n",
    "print(y[c])"
   ]
  },
  {
   "cell_type": "markdown",
   "metadata": {},
   "source": [
    "This is the type of selection used *all the time* in data analysis."
   ]
  },
  {
   "cell_type": "markdown",
   "metadata": {},
   "source": [
    "### File Input/Output\n",
    "\n",
    "Standard Python has functions to read basic text and binary files from disk.\n",
    "\n",
    "However, for numerical analysis your files will usually be nicely formatted into numerical columns separated by spaces, commas, etc. For reading such files, NumPy has a nice function called `genfromtxt`:"
   ]
  },
  {
   "cell_type": "code",
   "execution_count": 79,
   "metadata": {},
   "outputs": [
    {
     "name": "stdout",
     "output_type": "stream",
     "text": [
      "[ 1.  2.  3.  4.  5.  6.  7.  8.  9. 10.]\n",
      "[  1.   4.   9.  16.  25.  36.  49.  64.  81. 100.]\n"
     ]
    }
   ],
   "source": [
    "# Load data from file into a multidimensional array\n",
    "data = np.genfromtxt('data.txt')\n",
    "\n",
    "x = data[:,0]   # x is the first column (numbering starts @ 0)\n",
    "y = data[:,1]   # y is the second column\n",
    "\n",
    "print(x)\n",
    "print(y)"
   ]
  },
  {
   "cell_type": "markdown",
   "metadata": {},
   "source": [
    "## Plotting with Matplotlib\n",
    "\n",
    "Matplotlib is used to plot data and can be used to produce the usual xy scatter plots, contour plots, histograms, etc. that you're used to making for all basic data analyses.\n",
    "\n",
    "I strongly recommend that you go to the Matplotlib website and check out the huge <a href=\"http://matplotlib.org/gallery.html\">plot gallery</a>. This is the easiest way to learn how to make a particular kind of plot."
   ]
  },
  {
   "cell_type": "code",
   "execution_count": 82,
   "metadata": {},
   "outputs": [],
   "source": [
    "import matplotlib.pyplot as plt"
   ]
  },
  {
   "cell_type": "code",
   "execution_count": 84,
   "metadata": {},
   "outputs": [
    {
     "data": {
      "image/png": "[encoded data removed]",
      "text/plain": [
       "<matplotlib.figure.Figure at 0x114c83c18>"
      ]
     },
     "metadata": {},
     "output_type": "display_data"
    }
   ],
   "source": [
    "plt.plot(x, y, \"k.\")\n",
    "plt.xlabel(\"x [arb. units]\")\n",
    "plt.ylabel(\"y [arb. units]\")\n",
    "plt.title(\"Some XY data\");"
   ]
  },
  {
   "cell_type": "markdown",
   "metadata": {},
   "source": [
    "Here is an example of how to change the default formatting of the text in your plot. Also note how LaTeX is supported!"
   ]
  },
  {
   "cell_type": "code",
   "execution_count": 85,
   "metadata": {},
   "outputs": [
    {
     "data": {
      "text/plain": [
       "Text(0.5,1,'Some XY data')"
      ]
     },
     "execution_count": 85,
     "metadata": {},
     "output_type": "execute_result"
    },
    {
     "data": {
      "image/png": "[encoded data removed]",
      "text/plain": [
       "<matplotlib.figure.Figure at 0x114d539e8>"
      ]
     },
     "metadata": {},
     "output_type": "display_data"
    }
   ],
   "source": [
    "import matplotlib as mpl\n",
    "mpl.rc('font', size=16)\n",
    "\n",
    "plt.plot(x, y, \"k.\")\n",
    "plt.xlabel(r\"$\\sin({x)}$ [arb. units]\")\n",
    "plt.ylabel(r\"$\\zeta(y)$ [arb. units]\")\n",
    "plt.title(\"Some XY data\")"
   ]
  },
  {
   "cell_type": "markdown",
   "metadata": {},
   "source": [
    "### Using NumPy and Matplotlib Together\n",
    "\n",
    "Here we create some fake data with NumPy and plot it, including a legend."
   ]
  },
  {
   "cell_type": "code",
   "execution_count": 86,
   "metadata": {},
   "outputs": [
    {
     "data": {
      "text/plain": [
       "<matplotlib.legend.Legend at 0x114f7fc88>"
      ]
     },
     "execution_count": 86,
     "metadata": {},
     "output_type": "execute_result"
    },
    {
     "data": {
      "image/png": "[encoded data removed]",
      "text/plain": [
       "<matplotlib.figure.Figure at 0x114f7add8>"
      ]
     },
     "metadata": {},
     "output_type": "display_data"
    }
   ],
   "source": [
    "x = np.linspace(-np.pi, np.pi, 1000, endpoint=True)\n",
    "c = np.cos(x)\n",
    "s = np.sin(x)\n",
    "\n",
    "plt.plot(x,c,label=\"Cosine\",color=\"r\",linestyle=\"--\",linewidth=2)\n",
    "plt.plot(x,s,label=\"Sine\",color=\"b\",linestyle=\"-.\",linewidth=2)\n",
    "plt.xlabel(\"$x$\",fontsize=14)\n",
    "plt.xlim(-np.pi,np.pi)\n",
    "\n",
    "# Override default ticks and labels\n",
    "xticks = [-np.pi, -0.5*np.pi, 0, 0.5*np.pi, np.pi]\n",
    "labels = [\"$-\\pi$\", \"$-\\pi/2$\", \"$0$\", \"$\\pi/2$\", \"$\\pi$\"]\n",
    "plt.xticks(xticks, labels)\n",
    "\n",
    "plt.ylabel(\"$y$\",fontsize=14)\n",
    "plt.ylim(-1,1)\n",
    "plt.legend(fontsize=14, loc=\"best\", numpoints=1)"
   ]
  },
  {
   "cell_type": "markdown",
   "metadata": {
    "collapsed": true
   },
   "source": [
    "## Help Manual and Inspection\n",
    "\n",
    "When running interactive sessions, you can use the built-in help function to view module and function documentation.\n",
    "\n",
    "For example, here is how to view the internal documentation for the built-in function that calculates the greatest common divisor of two numbers:"
   ]
  },
  {
   "cell_type": "code",
   "execution_count": 87,
   "metadata": {},
   "outputs": [
    {
     "name": "stdout",
     "output_type": "stream",
     "text": [
      "Help on function gcd in module fractions:\n",
      "\n",
      "gcd(a, b)\n",
      "    Calculate the Greatest Common Divisor of a and b.\n",
      "    \n",
      "    Unless b==0, the result will have the same sign as b (so that when\n",
      "    b is divided by it, the result comes out positive).\n",
      "\n"
     ]
    }
   ],
   "source": [
    "from fractions import gcd\n",
    "\n",
    "help(gcd)"
   ]
  },
  {
   "cell_type": "markdown",
   "metadata": {},
   "source": [
    "The `inspect` module is nice if you actually want to look at the **source code** of a function.  Just import inspect and call the `getsource` function for the code you want to see:"
   ]
  },
  {
   "cell_type": "code",
   "execution_count": 88,
   "metadata": {},
   "outputs": [
    {
     "name": "stdout",
     "output_type": "stream",
     "text": [
      "def gcd(a, b):\n",
      "    \"\"\"Calculate the Greatest Common Divisor of a and b.\n",
      "\n",
      "    Unless b==0, the result will have the same sign as b (so that when\n",
      "    b is divided by it, the result comes out positive).\n",
      "    \"\"\"\n",
      "    import warnings\n",
      "    warnings.warn('fractions.gcd() is deprecated. Use math.gcd() instead.',\n",
      "                  DeprecationWarning, 2)\n",
      "    if type(a) is int is type(b):\n",
      "        if (b or a) < 0:\n",
      "            return -math.gcd(a, b)\n",
      "        return math.gcd(a, b)\n",
      "    return _gcd(a, b)\n",
      "\n"
     ]
    }
   ],
   "source": [
    "from inspect import getsource\n",
    "\n",
    "print(getsource(gcd))"
   ]
  },
  {
   "cell_type": "code",
   "execution_count": null,
   "metadata": {},
   "outputs": [],
   "source": []
  }
 ],
 "metadata": {
  "kernelspec": {
   "display_name": "Python 3",
   "language": "python",
   "name": "python3"
  },
  "language_info": {
   "codemirror_mode": {
    "name": "ipython",
    "version": 3
   },
   "file_extension": ".py",
   "mimetype": "text/x-python",
   "name": "python",
   "nbconvert_exporter": "python",
   "pygments_lexer": "ipython3",
   "version": "3.6.4"
  }
 },
 "nbformat": 4,
 "nbformat_minor": 1
}
